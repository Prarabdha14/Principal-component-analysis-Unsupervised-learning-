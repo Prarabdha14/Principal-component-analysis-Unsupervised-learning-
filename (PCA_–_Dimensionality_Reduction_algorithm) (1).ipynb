{
  "nbformat": 4,
  "nbformat_minor": 0,
  "metadata": {
    "colab": {
      "provenance": []
    },
    "kernelspec": {
      "name": "python3",
      "display_name": "Python 3"
    },
    "language_info": {
      "name": "python"
    }
  },
  "cells": [
    {
      "cell_type": "markdown",
      "source": [
        "Theory of PCA with example"
      ],
      "metadata": {
        "id": "v0qaPGAGc-7c"
      }
    },
    {
      "cell_type": "markdown",
      "source": [
        "Principal Component Analysis (PCA) is a dimensionality reduction technique used to simplify complex datasets while retaining most of their important information. It works by transforming the original variables into a new set of orthogonal variables called principal components. These components are ordered by the amount of variance they explain in the data, with the first component capturing the maximum variance, followed by the second, and so on.\n",
        "\n",
        "Suppose we have a dataset with two features, height and weight, and we want to reduce it to one dimension using PCA. After standardizing the data, PCA calculates the covariance matrix and finds two eigenvectors. The eigenvector with the highest eigenvalue represents the direction of maximum variance in the data. PCA then projects the original data onto this eigenvector to obtain a one-dimensional representation of the dataset."
      ],
      "metadata": {
        "id": "a45X8qmqdEBO"
      }
    },
    {
      "cell_type": "code",
      "source": [
        "from sklearn.datasets import load_iris\n",
        "import pandas as pd\n",
        "from sklearn.model_selection import train_test_split\n",
        "from sklearn.preprocessing import StandardScaler\n",
        "from sklearn.decomposition import PCA\n",
        "from sklearn.ensemble import RandomForestClassifier\n",
        "from sklearn.metrics import accuracy_score"
      ],
      "metadata": {
        "id": "gv-xRcDtZRyb"
      },
      "execution_count": null,
      "outputs": []
    },
    {
      "cell_type": "code",
      "source": [
        "df_custom = pd.read_csv('/content/archive (10).zip')"
      ],
      "metadata": {
        "id": "31uS2UYDfu-R"
      },
      "execution_count": null,
      "outputs": []
    },
    {
      "cell_type": "code",
      "source": [
        "iris = load_iris()\n",
        "X_iris = iris.data\n",
        "y_iris = iris.target"
      ],
      "metadata": {
        "id": "2tmV5TiHZ5e9"
      },
      "execution_count": null,
      "outputs": []
    },
    {
      "cell_type": "code",
      "source": [
        "X_train_iris, X_test_iris, y_train_iris, y_test_iris = train_test_split(X_iris, y_iris, test_size=0.2, random_state=42)"
      ],
      "metadata": {
        "id": "phx-BkfsaGZy"
      },
      "execution_count": null,
      "outputs": []
    },
    {
      "cell_type": "code",
      "source": [
        "model_iris_without_pca = RandomForestClassifier(random_state=42)\n",
        "model_iris_without_pca.fit(X_train_iris, y_train_iris)\n",
        "y_pred_iris_without_pca = model_iris_without_pca.predict(X_test_iris)\n",
        "accuracy_iris_without_pca = accuracy_score(y_test_iris, y_pred_iris_without_pca)\n",
        "print(\"Accuracy without PCA on Iris dataset:\", accuracy_iris_without_pca)"
      ],
      "metadata": {
        "colab": {
          "base_uri": "https://localhost:8080/"
        },
        "id": "lWDETfu-aQqT",
        "outputId": "80462bf9-77a0-481a-8642-ec581bc26a16"
      },
      "execution_count": null,
      "outputs": [
        {
          "output_type": "stream",
          "name": "stdout",
          "text": [
            "Accuracy without PCA on Iris dataset: 1.0\n"
          ]
        }
      ]
    },
    {
      "cell_type": "code",
      "source": [
        "scaler_iris = StandardScaler()\n",
        "X_train_scaled_iris = scaler_iris.fit_transform(X_train_iris)\n",
        "X_test_scaled_iris = scaler_iris.transform(X_test_iris)\n",
        "pca_iris = PCA(n_components=2)\n",
        "X_train_pca_iris = pca_iris.fit_transform(X_train_scaled_iris)\n",
        "X_test_pca_iris = pca_iris.transform(X_test_scaled_iris)"
      ],
      "metadata": {
        "id": "21sUidoDaYK-"
      },
      "execution_count": null,
      "outputs": []
    },
    {
      "cell_type": "code",
      "source": [
        "model_iris_with_pca = RandomForestClassifier(random_state=42)\n",
        "model_iris_with_pca.fit(X_train_pca_iris, y_train_iris)\n",
        "y_pred_iris_with_pca = model_iris_with_pca.predict(X_test_pca_iris)\n",
        "accuracy_iris_with_pca = accuracy_score(y_test_iris, y_pred_iris_with_pca)\n",
        "print(\"Accuracy with PCA on Iris dataset:\", accuracy_iris_with_pca)"
      ],
      "metadata": {
        "colab": {
          "base_uri": "https://localhost:8080/"
        },
        "id": "VjybuqVnaepD",
        "outputId": "6cd41b6e-09a2-4d06-a6f0-6a498f6c74ea"
      },
      "execution_count": null,
      "outputs": [
        {
          "output_type": "stream",
          "name": "stdout",
          "text": [
            "Accuracy with PCA on Iris dataset: 0.9\n"
          ]
        }
      ]
    },
    {
      "cell_type": "markdown",
      "source": [
        "**Analyse the result. Write in brief a paragraph on your observations.**"
      ],
      "metadata": {
        "id": "c-KT2_XicL6D"
      }
    },
    {
      "cell_type": "markdown",
      "source": [
        "it's evident that the models perform exceptionally well on the Iris dataset, achieving a perfect accuracy of 1.0 without PCA and a high accuracy of 0.9 with PCA. This suggests that the Iris dataset is relatively well-structured and easily separable by the chosen RandomForestClassifier model. On the other hand, the custom dataset presents a more challenging task, with an accuracy of 0.9436 without PCA. However, with PCA applied, the accuracy drops significantly to 0.2763. This drastic reduction in accuracy indicates that PCA might not be suitable for this particular custom dataset. It's possible that the dataset's features do not exhibit strong correlations or that the dimensionality reduction caused by PCA results in a loss of crucial information for accurate classification. Further analysis and experimentation may be required to improve the model's performance on the custom dataset.\n",
        "\n",
        "\n",
        "\n",
        "\n"
      ],
      "metadata": {
        "id": "GFCZfQrzcX9P"
      }
    }
  ]
}